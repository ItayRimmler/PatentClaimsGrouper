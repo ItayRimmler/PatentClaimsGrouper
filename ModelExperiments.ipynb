{
  "nbformat": 4,
  "nbformat_minor": 0,
  "metadata": {
    "colab": {
      "provenance": [],
      "authorship_tag": "ABX9TyMm0t2jepTe7zYlBzTXiLFs",
      "include_colab_link": true
    },
    "kernelspec": {
      "name": "python3",
      "display_name": "Python 3"
    },
    "language_info": {
      "name": "python"
    }
  },
  "cells": [
    {
      "cell_type": "markdown",
      "metadata": {
        "id": "view-in-github",
        "colab_type": "text"
      },
      "source": [
        "<a href=\"https://colab.research.google.com/github/ItayRimmler/PatentClaimsGrouper/blob/main/ModelExperiments.ipynb\" target=\"_parent\"><img src=\"https://colab.research.google.com/assets/colab-badge.svg\" alt=\"Open In Colab\"/></a>"
      ]
    },
    {
      "cell_type": "markdown",
      "source": [
        "Let's perform text clustering!"
      ],
      "metadata": {
        "id": "UEV452KM59Ps"
      }
    },
    {
      "cell_type": "markdown",
      "source": [
        "We are going to:\n",
        "\n",
        "\n",
        "1.   Preprocess the data\n",
        "2.   Embed the data\n",
        "3.   Cluster the data\n",
        "\n"
      ],
      "metadata": {
        "id": "GfnxqX8r8KKa"
      }
    },
    {
      "cell_type": "markdown",
      "source": [
        "1. PREPROCESSING"
      ],
      "metadata": {
        "id": "SrPKV0lQ-Vcc"
      }
    },
    {
      "cell_type": "code",
      "execution_count": null,
      "metadata": {
        "id": "gg6CHLbb3c9h"
      },
      "outputs": [],
      "source": []
    },
    {
      "cell_type": "code",
      "source": [],
      "metadata": {
        "colab": {
          "base_uri": "https://localhost:8080/"
        },
        "id": "j2uOIVMh48te",
        "outputId": "17450878-e6c7-42fa-945b-fd47611a51be"
      },
      "execution_count": null,
      "outputs": [
        {
          "output_type": "stream",
          "name": "stdout",
          "text": [
            "p\n"
          ]
        }
      ]
    }
  ]
}